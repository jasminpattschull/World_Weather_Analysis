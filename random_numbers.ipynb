{
 "cells": [
  {
   "cell_type": "code",
   "execution_count": 1,
   "id": "3580bffd",
   "metadata": {},
   "outputs": [],
   "source": [
    "#Import random module\n",
    "import random"
   ]
  },
  {
   "cell_type": "code",
   "execution_count": 2,
   "id": "6bb44ce7",
   "metadata": {},
   "outputs": [
    {
     "data": {
      "text/plain": [
       "41"
      ]
     },
     "execution_count": 2,
     "metadata": {},
     "output_type": "execute_result"
    }
   ],
   "source": [
    "random.randint(-90,90)"
   ]
  },
  {
   "cell_type": "code",
   "execution_count": 3,
   "id": "dd7e9218",
   "metadata": {},
   "outputs": [
    {
     "data": {
      "text/plain": [
       "0.14747830763141256"
      ]
     },
     "execution_count": 3,
     "metadata": {},
     "output_type": "execute_result"
    }
   ],
   "source": [
    "random.random()"
   ]
  },
  {
   "cell_type": "code",
   "execution_count": 4,
   "id": "86a47eb4",
   "metadata": {},
   "outputs": [
    {
     "data": {
      "text/plain": [
       "-40.226024710666046"
      ]
     },
     "execution_count": 4,
     "metadata": {},
     "output_type": "execute_result"
    }
   ],
   "source": [
    "random_number = random.randint(-90,89) + random.random()\n",
    "random_number"
   ]
  },
  {
   "cell_type": "code",
   "execution_count": 6,
   "id": "369a715a",
   "metadata": {},
   "outputs": [
    {
     "data": {
      "text/plain": [
       "[28.093995230568627,\n",
       " 81.66357649041504,\n",
       " -48.74915009863538,\n",
       " 81.7653321811866,\n",
       " 51.11788087709207,\n",
       " 73.58262922829611,\n",
       " -35.01553799518212,\n",
       " -75.25724388105051,\n",
       " 59.10502507694877,\n",
       " -73.9567074085164]"
      ]
     },
     "execution_count": 6,
     "metadata": {},
     "output_type": "execute_result"
    }
   ],
   "source": [
    "x = 1\n",
    "latitudes = []\n",
    "while x < 11:\n",
    "    random_lat = random.randint(-90, 89) + random.random()\n",
    "    latitudes.append(random_lat)\n",
    "    x += 1\n",
    "latitudes"
   ]
  },
  {
   "cell_type": "code",
   "execution_count": 10,
   "id": "53f01e5f",
   "metadata": {},
   "outputs": [
    {
     "data": {
      "text/plain": [
       "-66"
      ]
     },
     "execution_count": 10,
     "metadata": {},
     "output_type": "execute_result"
    }
   ],
   "source": [
    "random.randrange(-90,90,step=3)"
   ]
  },
  {
   "cell_type": "code",
   "execution_count": 11,
   "id": "e32fd4c9",
   "metadata": {},
   "outputs": [
    {
     "data": {
      "text/plain": [
       "-66.96775397290851"
      ]
     },
     "execution_count": 11,
     "metadata": {},
     "output_type": "execute_result"
    }
   ],
   "source": [
    "random.uniform(-90,90)"
   ]
  },
  {
   "cell_type": "code",
   "execution_count": 12,
   "id": "e9fca669",
   "metadata": {},
   "outputs": [],
   "source": [
    "# Import the NumPy module.\n",
    "import numpy as np"
   ]
  },
  {
   "cell_type": "code",
   "execution_count": 14,
   "id": "220a843f",
   "metadata": {},
   "outputs": [
    {
     "data": {
      "text/plain": [
       "array([-67.03460715, -30.55039746,  25.70839147, -63.45304298,\n",
       "        44.73615733,   2.50958706,  55.17662424, -89.70532864,\n",
       "       -62.45060503,  33.92769941,  -2.21029895, -10.21608873,\n",
       "       -61.42064259, -31.21275102, -36.01914629,  13.70523372,\n",
       "        -6.97561104,   4.2503038 ,  83.13502622,  25.18899764,\n",
       "       -18.80177961,  65.26829387,  73.3422194 , -10.12763125,\n",
       "       -32.53981959,  16.49512283,  85.09311246,   5.45131255,\n",
       "       -20.36578231,   4.88182896, -58.11043402,  67.39199098,\n",
       "        29.51566186, -86.64079427,  14.86756621, -75.73087183,\n",
       "        38.26096692, -84.17425512, -67.01848901,  29.85450682,\n",
       "       -78.11667228, -72.34729791, -12.98825171,  19.4209308 ,\n",
       "        16.80915508,  87.21367369, -64.52054935,  20.09518326,\n",
       "       -54.9258848 , -73.39744954])"
      ]
     },
     "execution_count": 14,
     "metadata": {},
     "output_type": "execute_result"
    }
   ],
   "source": [
    "np.random.uniform(-90.000,90.000, size=50)"
   ]
  },
  {
   "cell_type": "code",
   "execution_count": 15,
   "id": "ebfb22c9",
   "metadata": {},
   "outputs": [],
   "source": [
    "# Import timeit.\n",
    "import timeit"
   ]
  },
  {
   "cell_type": "code",
   "execution_count": 16,
   "id": "f0fe8de8",
   "metadata": {},
   "outputs": [
    {
     "name": "stdout",
     "output_type": "stream",
     "text": [
      "36.9 µs ± 4.07 µs per loop (mean ± std. dev. of 7 runs, 10000 loops each)\n"
     ]
    }
   ],
   "source": [
    "%timeit np.random.uniform(-90.000, 90.000, size=1500)"
   ]
  },
  {
   "cell_type": "code",
   "execution_count": 17,
   "id": "f0fa63c0",
   "metadata": {},
   "outputs": [
    {
     "name": "stdout",
     "output_type": "stream",
     "text": [
      "4.09 ms ± 340 µs per loop (mean ± std. dev. of 7 runs, 100 loops each)\n"
     ]
    }
   ],
   "source": [
    "def latitudes(size):\n",
    "    latitudes = []\n",
    "    x = 0\n",
    "    while x < (size):\n",
    "        random_lat = random.randint(-90, 90) + random.random()\n",
    "        latitudes.append(random_lat)\n",
    "        x += 1\n",
    "    return latitudes\n",
    "\n",
    "# Call the function with 1500.\n",
    "%timeit latitudes(1500)"
   ]
  },
  {
   "cell_type": "code",
   "execution_count": 18,
   "id": "8d273b42",
   "metadata": {},
   "outputs": [
    {
     "data": {
      "text/plain": [
       "array([-55.11377333,  13.5503078 , -88.09677048, ...,  81.19463994,\n",
       "       -25.81166818,  25.12862281])"
      ]
     },
     "execution_count": 18,
     "metadata": {},
     "output_type": "execute_result"
    }
   ],
   "source": [
    "np.random.uniform(-90.000, 90.000, size=1500)"
   ]
  },
  {
   "cell_type": "code",
   "execution_count": null,
   "id": "23481c8c",
   "metadata": {},
   "outputs": [],
   "source": []
  }
 ],
 "metadata": {
  "kernelspec": {
   "display_name": "PythonData",
   "language": "python",
   "name": "pythondata"
  },
  "language_info": {
   "codemirror_mode": {
    "name": "ipython",
    "version": 3
   },
   "file_extension": ".py",
   "mimetype": "text/x-python",
   "name": "python",
   "nbconvert_exporter": "python",
   "pygments_lexer": "ipython3",
   "version": "3.7.10"
  }
 },
 "nbformat": 4,
 "nbformat_minor": 5
}
